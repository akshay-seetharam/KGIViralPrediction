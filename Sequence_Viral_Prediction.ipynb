{
  "cells": [
    {
      "cell_type": "code",
      "execution_count": 14,
      "metadata": {
        "id": "f15DSzugEHCu"
      },
      "outputs": [],
      "source": [
        "from matplotlib import pyplot as plt\n",
        "\n",
        "cluster_threshold = 0.6\n",
        "\n",
        "# known viral contigs\n",
        "with open('/content/drive/MyDrive/KGI Internship/viral pred/GoodContigs.txt', 'r') as f:\n",
        "    good_contigs = f.readlines()\n",
        "\n",
        "i = 0\n",
        "while i < len(good_contigs):\n",
        "    good_contigs[i] = good_contigs[i].strip()\n",
        "    i += 1\n",
        "\n",
        "contig_dict = {}\n",
        "cluster_dict = {}\n",
        "\n",
        "# k:v = contig : representative genes of clusters it appears in\n",
        "with open('/content/drive/MyDrive/KGI Internship/viral pred/contig_dict.txt', 'r') as f:\n",
        "    contig_lines = f.readlines()\n",
        "\n",
        "i = 0\n",
        "while i < len(contig_lines):\n",
        "    contig_lines[i] = contig_lines[i].strip()[:-1]\n",
        "    i += 1\n",
        "\n",
        "# k:v = representative gene : genes in same cluster\n",
        "with open('/content/drive/MyDrive/KGI Internship/viral pred/cluster_dictionary.txt', 'r') as f:\n",
        "    cluster_lines = f.readlines()\n",
        "\n",
        "i = 0\n",
        "while i < len(cluster_lines):\n",
        "    cluster_lines[i] = cluster_lines[i].strip()[:-1]\n",
        "    i += 1\n",
        "\n",
        "\n",
        "for line in contig_lines:\n",
        "    contig_dict[line[:line.index(':')]] = list(line[line.index(':') + 2:].split(','))\n",
        "\n",
        "for line in cluster_lines:\n",
        "    cluster_dict[line[:line.index(':')]] = list(line[line.index(':') + 2:].split(','))\n",
        "\n",
        "# Run to get predicted viral clusters\n",
        "# # k:v = representative gene : percent of genes in cluster in known viral contigs\n",
        "# print('Filtering clusters...')\n",
        "# pred_clusters = ['test']\n",
        "# index = 1\n",
        "# for cluster in cluster_dict.keys():\n",
        "#     size = 1.0 * len(cluster_dict[cluster])\n",
        "#     known_viral = 0.0\n",
        "#     for gene in cluster_dict[cluster]:\n",
        "#         if gene[:gene.index('_')] in good_contigs:\n",
        "#             known_viral += 1.0\n",
        "#     prop = known_viral / size\n",
        "#     if prop >= cluster_threshold:\n",
        "#         print(f'#{index}/{len(cluster_dict.keys())}\\t{cluster} {round(prop * 1000) / 1000}, ACCEPTED!')\n",
        "#         pred_clusters.append(cluster)\n",
        "#     else:\n",
        "#         print(f'#{index}/{len(cluster_dict.keys())}\\t{cluster} {round(prop*1000) / 1000}, rejected :(')\n",
        "#     index += 1\n",
        "\n",
        "# with open('/content/drive/MyDrive/KGI Internship/viral pred/pred_clusters.txt', 'w+') as f:\n",
        "#     for i in pred_clusters:\n",
        "#         f.write(i + '\\n')"
      ]
    },
    {
      "cell_type": "code",
      "execution_count": 2,
      "metadata": {
        "id": "SU4OHQxAZX1V"
      },
      "outputs": [],
      "source": [
        "!grep VMHT /content/drive/MyDrive/KGI\\ Internship/viral\\ pred/prodigal_pred_proteins > /content/drive/MyDrive/KGI\\ Internship/viral\\ pred/prodigal_pred_proteins_real.txt"
      ]
    },
    {
      "cell_type": "code",
      "execution_count": 3,
      "metadata": {
        "colab": {
          "base_uri": "https://localhost:8080/"
        },
        "id": "IBg-jhisbRwb",
        "outputId": "78b07511-af98-42b9-c7c8-44ebe5d64da8"
      },
      "outputs": [
        {
          "output_type": "stream",
          "name": "stdout",
          "text": [
            ">VMHT01000001.1_1 # 3 # 308 # -1 # ID=1_1;partial=10;start_type=ATG;rbs_motif=None;rbs_spacer=None;gc_cont=0.359\n",
            ">VMHT01000001.1_2 # 308 # 790 # -1 # ID=1_2;partial=00;start_type=ATG;rbs_motif=GGA/GAG/AGG;rbs_spacer=5-10bp;gc_cont=0.340\n",
            ">VMHT01000001.1_3 # 793 # 1704 # -1 # ID=1_3;partial=00;start_type=ATG;rbs_motif=None;rbs_spacer=None;gc_cont=0.364\n",
            ">VMHT01000001.1_4 # 1704 # 5051 # -1 # ID=1_4;partial=01;start_type=Edge;rbs_motif=None;rbs_spacer=None;gc_cont=0.386\n",
            ">VMHT01000002.1_1 # 1 # 1746 # -1 # ID=2_1;partial=10;start_type=ATG;rbs_motif=AGGA;rbs_spacer=5-10bp;gc_cont=0.437\n",
            ">VMHT01000002.1_2 # 1748 # 2926 # -1 # ID=2_2;partial=00;start_type=ATG;rbs_motif=GGA/GAG/AGG;rbs_spacer=5-10bp;gc_cont=0.411\n",
            ">VMHT01000002.1_3 # 2929 # 3534 # -1 # ID=2_3;partial=00;start_type=ATG;rbs_motif=GGA/GAG/AGG;rbs_spacer=5-10bp;gc_cont=0.467\n",
            ">VMHT01000002.1_4 # 3870 # 4421 # 1 # ID=2_4;partial=00;start_type=ATG;rbs_motif=AGGA/GGAG/GAGG;rbs_spacer=11-12bp;gc_cont=0.562\n",
            ">VMHT01000002.1_5 # 4414 # 5166 # -1 # ID=2_5;partial=00;start_type=ATG;rbs_motif=GGAG/GAGG;rbs_spacer=5-10bp;gc_cont=0.501\n",
            ">VMHT01000002.1_6 # 5423 # 5608 # -1 # ID=2_6;partial=00;start_type=ATG;rbs_motif=AGGAG;rbs_spacer=5-10bp;gc_cont=0.500\n"
          ]
        }
      ],
      "source": [
        "!head /content/drive/MyDrive/KGI\\ Internship/viral\\ pred/prodigal_pred_proteins_real.txt"
      ]
    },
    {
      "cell_type": "code",
      "execution_count": null,
      "metadata": {
        "id": "t5h49utmZMav"
      },
      "outputs": [],
      "source": [
        "contig_to_gene = {}\n",
        "with open('/content/drive/MyDrive/KGI Internship/viral pred/prodigal_pred_proteins_real.txt', 'r') as f:\n",
        "  lines = f.readlines()\n",
        "print(lines)\n",
        "for line in lines:\n",
        "  try:\n",
        "    if line[1:line.index('_')] in contig_to_gene.keys():\n",
        "      contig_to_gene[line[1:line.index('_')]].append(line[1:line.index(' ')])\n",
        "    else:\n",
        "      contig_to_gene[line[1:line.index('_')]] = [line[1:line.index(' ')]]\n",
        "  except ValueError as e:\n",
        "    print(e)\n",
        "    print(line)\n",
        "    continue\n",
        "print('Dict: ' + str(contig_to_gene))"
      ]
    },
    {
      "cell_type": "code",
      "execution_count": null,
      "metadata": {
        "id": "4yF3TnDtzEy0"
      },
      "outputs": [],
      "source": [
        "print(list(contig_to_gene.items())[:10])"
      ]
    },
    {
      "cell_type": "code",
      "execution_count": null,
      "metadata": {
        "id": "wr8vkt1r0nmS"
      },
      "outputs": [],
      "source": [
        "# k:v = gene : representative gene of cluster it's in\n",
        "gene_dict = {}\n",
        "for cluster in cluster_dict.keys():\n",
        "  for gene in cluster_dict[cluster]:\n",
        "    gene_dict[gene] = cluster\n",
        "print(list(gene_dict.items())[:10])"
      ]
    },
    {
      "cell_type": "code",
      "execution_count": null,
      "metadata": {
        "id": "cfSqHxgO4Jm_"
      },
      "outputs": [],
      "source": [
        "with open('/content/drive/MyDrive/KGI Internship/viral pred/pred_clusters.txt', 'r') as f:\n",
        "  pred_clusters = f.readlines()[1:]\n",
        "i = 0\n",
        "while i < len(pred_clusters):\n",
        "  pred_clusters[i] = pred_clusters[i].strip()\n",
        "  i += 1\n",
        "print(pred_clusters[:10])\n",
        "print(len(pred_clusters))"
      ]
    },
    {
      "cell_type": "code",
      "execution_count": null,
      "metadata": {
        "id": "f_nGuolm6Q-N"
      },
      "outputs": [],
      "source": [
        "0.6 * len(pred_clusters) / (len(cluster_dict))"
      ]
    },
    {
      "cell_type": "code",
      "execution_count": null,
      "metadata": {
        "id": "X3tBBXfjPwcH",
        "collapsed": true
      },
      "outputs": [],
      "source": [
        "pred_contigs_full_stats = {}\n",
        "pred_contigs = []\n",
        "index = 1\n",
        "contig_threshold = 0.6 * len(pred_clusters) / (len(cluster_dict)) # weight for # of viral clusters in sample\n",
        "for contig in contig_dict.keys():\n",
        "  if contig in good_contigs: continue\n",
        "  total = len(contig_to_gene[contig])\n",
        "  good = 0.0\n",
        "  for gene in contig_to_gene[contig]:\n",
        "    if gene_dict[gene] in pred_clusters:\n",
        "      good += 1\n",
        "\n",
        "  prop = good / total\n",
        "  pred_contigs_full_stats[contig] = prop\n",
        "  if prop >= contig_threshold:\n",
        "      print(f'#{index}/{len(contig_dict.keys())}\\t{contig} {round(prop * 1000) / 1000}, ACCEPTED! with {int(good)}/{total}')\n",
        "      pred_contigs.append(cluster)\n",
        "  else:\n",
        "      print(f'#{index}/{len(contig_dict.keys())}\\t{contig} {round(prop*1000) / 1000}, rejected :( with {int(good)}/{total}')\n",
        "  index += 1\n",
        "print(list(pred_contigs_full_stats.items())[:10])\n",
        "print(len(pred_contigs))"
      ]
    },
    {
      "cell_type": "code",
      "execution_count": null,
      "metadata": {
        "id": "ZovgpuUkQSnf"
      },
      "outputs": [],
      "source": [
        "with open('/content/drive/MyDrive/KGI Internship/viral pred/pred_viral_contigs.txt', 'r') as f:\n",
        "  pred_contigs = f.read().splitlines()\n",
        "\n",
        "print(len(pred_contigs))\n",
        "num_genes = [len(contig_to_gene[i]) for i in pred_contigs]\n",
        "plt.hist(num_genes)\n",
        "plt.xlabel('# of Genes in Pred. Viral Contig')\n",
        "plt.ylabel('Frequency')\n",
        "plt.yscale('log')\n",
        "plt.show()\n",
        "\n",
        "plt.figure()\n",
        "\n",
        "plt.hist([len(i) for i in contig_to_gene.values()])\n",
        "plt.xlabel('# of Genes in Contig')\n",
        "plt.ylabel('Frequency')\n",
        "plt.yscale('log')\n",
        "plt.show()\n",
        "\n",
        "# plt.figure()\n",
        "\n",
        "# plt.hist([len(contig_to_gene[i]) for i in good_contigs])\n",
        "# plt.xlabel('# of Genes in Known Viral Contig')\n",
        "# plt.ylabel('Frequency')\n",
        "# plt.show()"
      ]
    },
    {
      "cell_type": "code",
      "source": [
        "num_good_genes = []\n",
        "for i in good_contigs:\n",
        "  if i in contig_to_gene.keys():\n",
        "    num_good_genes.append(len(contig_to_gene[i]))\n",
        "\n",
        "print(len(num_good_genes))\n",
        "print(len(good_contigs))\n",
        "print(sum(num_good_genes))"
      ],
      "metadata": {
        "id": "YvAhKpFHz55l"
      },
      "execution_count": null,
      "outputs": []
    },
    {
      "cell_type": "code",
      "source": [
        "print('known genes:', sum(num_good_genes))\n",
        "print('pred genes:', sum(num_genes))\n",
        "print('all genes:', sum([len(i) for i in contig_to_gene.values()]))"
      ],
      "metadata": {
        "id": "DCA5ivDh0O9Y"
      },
      "execution_count": null,
      "outputs": []
    },
    {
      "cell_type": "code",
      "source": [
        "plt.figure()\n",
        "\n",
        "first_opacity, second_op, third_op = 0.4, 0.6, 1.0\n",
        "\n",
        "first = [len(i) for i in contig_to_gene.values()]\n",
        "binwidth=25\n",
        "\n",
        "plt.hist(first, label='All Contigs', color='#D60270', alpha=first_opacity, bins=range(min(first), max(first) + binwidth, binwidth))\n",
        "plt.xlabel('# of Genes in Contig')\n",
        "plt.ylabel('Frequency')\n",
        "plt.yscale('log')\n",
        "plt.legend()\n",
        "plt.show()\n",
        "\n",
        "plt.figure()\n",
        "\n",
        "plt.hist([len(i) for i in contig_to_gene.values()], label='All Contigs', color='#D60270', alpha=first_opacity, bins=range(min(first), max(first) + binwidth, binwidth))\n",
        "plt.hist(num_good_genes, label='Known Viral', color='lightblue', bins=range(min(first), max(first) + binwidth, binwidth))\n",
        "plt.xlabel('# of Genes in Contig')\n",
        "plt.ylabel('Frequency')\n",
        "plt.yscale('log')\n",
        "plt.legend()\n",
        "plt.show()\n",
        "\n",
        "plt.figure()\n",
        "\n",
        "plt.hist([len(i) for i in contig_to_gene.values()], label='All Contigs', color='#D60270', alpha=first_opacity, bins=range(min(first), max(first) + binwidth, binwidth))\n",
        "plt.hist([num_good_genes, num_genes], stacked=True, label=['Known Viral', 'Pred Viral'], color=['lightblue', 'lavenderblush'], bins=range(min(first), max(first) + binwidth, binwidth))\n",
        "plt.xlabel('# of Genes in Contig')\n",
        "plt.ylabel('Frequency')\n",
        "plt.yscale('log')\n",
        "plt.legend()\n",
        "plt.show()"
      ],
      "metadata": {
        "id": "p2P6lcr_wh_v"
      },
      "execution_count": null,
      "outputs": []
    },
    {
      "cell_type": "code",
      "source": [
        "with open('/content/drive/MyDrive/KGI Internship/viral pred/prodigal_pred_proteins', 'r') as f:\n",
        "  lines = f.read().splitlines()"
      ],
      "metadata": {
        "id": "mFqOQf0DQayu"
      },
      "execution_count": null,
      "outputs": []
    },
    {
      "cell_type": "code",
      "source": [
        "from re import I\n",
        "\n",
        "def get_prot(gene):\n",
        "  i = 0\n",
        "  while gene not in lines[i]:\n",
        "    i += 1\n",
        "  actual_lines = lines[i:]\n",
        "  j = 1\n",
        "  prot = ''\n",
        "  while actual_lines[j][0] != '>':\n",
        "    prot += actual_lines[j].strip()\n",
        "    j += 1\n",
        "  return prot\n",
        "\n",
        "rep_genes = list(cluster_dict.keys())\n",
        "print(lines[:10])\n",
        "print(len(lines))\n",
        "\n",
        "rep_lines = []\n",
        "done = 0\n",
        "for i in rep_genes[:10]:\n",
        "  _ = set([j[:j.index('_')] for j in cluster_dict[i]])\n",
        "  rep_lines.append(f'>{i} # {len(cluster_dict[i])} # {len(_)}\\n')\n",
        "  rep_lines.append(f'{get_prot(i)}\\n')\n",
        "  done += 1\n",
        "  print(f'done getting protein for {done}/{len(rep_genes)} genes')\n",
        "\n",
        "for i in rep_lines[:10]:\n",
        "  print(i)\n",
        "\n",
        "print(len(rep_lines))"
      ],
      "metadata": {
        "colab": {
          "base_uri": "https://localhost:8080/"
        },
        "id": "d5qVRG9R7SO4",
        "outputId": "59241b7a-63fd-4926-ef1c-bc4c5889e71b"
      },
      "execution_count": null,
      "outputs": [
        {
          "output_type": "stream",
          "name": "stdout",
          "text": [
            "['>VMHT01000001.1_1 # 3 # 308 # -1 # ID=1_1;partial=10;start_type=ATG;rbs_motif=None;rbs_spacer=None;gc_cont=0.359', 'MANRVLLGKRGSTDHGLFVSRSGQDVLTSTQPLGFDSRAAESLILHSASQGILVPNVQDS', 'SGVQVSFTFNGVTENQHTATITHNLGYVPCFAVRWCTYNQIT', '>VMHT01000001.1_2 # 308 # 790 # -1 # ID=1_2;partial=00;start_type=ATG;rbs_motif=GGA/GAG/AGG;rbs_spacer=5-10bp;gc_cont=0.340', 'MANRIILGKNTNSNHGHSSGTPGFGLYISRPGKDVTTCTADELIFNTDNGTGTSLGRIIS', 'MYQLAPIPQAGGGTNTTTTSSITAGNAVTLDISSIDFGIDFGFISFGLLAPVTYGAGSTA', 'SSYDYNVSESLETITIENTGTTSLTVKSYVVPRYSNLALF*', '>VMHT01000001.1_3 # 793 # 1704 # -1 # ID=1_3;partial=00;start_type=ATG;rbs_motif=None;rbs_spacer=None;gc_cont=0.364', 'MANRILLGDIGSTFGLKVSRAGTDVTTGADKDMLFDSTKNRTGQIYGGGAGITFVDSSSD', 'QEAYVRGTANLYATPFTGQPNGGYTGKKIIIDGTTVTLSTTSSYFNYTYTTVDNMKTDIN']\n",
            "14297422\n",
            "done getting protein for 1/502235 genes\n",
            "done getting protein for 2/502235 genes\n",
            "done getting protein for 3/502235 genes\n",
            "done getting protein for 4/502235 genes\n",
            "done getting protein for 5/502235 genes\n",
            "done getting protein for 6/502235 genes\n",
            "done getting protein for 7/502235 genes\n",
            "done getting protein for 8/502235 genes\n",
            "done getting protein for 9/502235 genes\n",
            "done getting protein for 10/502235 genes\n",
            ">VMHT01000001.1_1 # 1 # 1\n",
            "\n",
            "MANRVLLGKRGSTDHGLFVSRSGQDVLTSTQPLGFDSRAAESLILHSASQGILVPNVQDSSGVQVSFTFNGVTENQHTATITHNLGYVPCFAVRWCTYNQIT\n",
            "\n",
            ">VMHT01000001.1_3 # 10 # 10\n",
            "\n",
            "MANRILLGDIGSTFGLKVSRAGTDVTTGADKDMLFDSTKNRTGQIYGGGAGITFVDSSSDQEAYVRGTANLYATPFTGQPNGGYTGKKIIIDGTTVTLSTTSSYFNYTYTTVDNMKTDINAAGITGVTAFRSTLSSTDHRLGLRKTTSDMVITYPASDSLEAIAGISAGTYDYPDLSSAGLNFLTGGASNKPNLGYIPLVLLSEQHAGGYEGENSEDEIYESVNRLNLFKTTSSTIHPVAAQASLPADQSSQGTAVGAPVAVGRFYEYSDGDYAQETEMVNANFFIIRIPCAYGYMTTTYFGT*\n",
            "\n",
            ">VMHT01000001.1_4 # 1 # 1\n",
            "\n",
            "GLSTATTNCTAVVNSSTGAITVTAITADTASFIVTITDRGTSETIGTRVVSLGKSIPGAAGAGTDSRTVNLTASDYSITYAADGTTPTPSGTITLTATSQNFSNPFFKFTGDGISDEGTFTDGSGASDTFSFSIPSNIVTTPQTIKVGVSEANQTELAFDTITLTSLQQGSQGTDGAPAYTAIITNEAHTFPSSNTGVVSSFGGSGTKIEVYKGATQLTPVANTGTPGTGQYDITTTATNITVGSFTLNTGSEKNITVADHSGVANGTDNSEIEYSINIENDVTLTKAQTFTKSKKGTDGDDGATGKKVKELILYYPANFNNNTFSIPTTPTSGVYHFGNNVIASIASGWQQAIPDDAAGAIYWTSETLATESSTANTSGSLSWSTPGNSRTPQFQVEFIFQRSANQPTTPSITNFPVIPTNWYDDIADVPSGSDAIWVSKGTTQFSLVGGTYGFKTTWQAATRIEGSNGTDGTDGDDGNDGASNFTVFQESSTPPSQPSAGTSNPPTSSWYSTLTAARNAVSGDGLVWFSVGTKPGTSNTITWSVPIRYVEEYDHVGGTKPPFDANKFLVPVNTTDGIFSFSIDGVSDTYEVLDSTSRTRFGRLRAGTDPIDGTNSIRNAGITLTSAGVLGGAGGGTLDLNDVNDTGTTKTGAARANAGLTSDGDVDRAVPVGVGGTGQTNTNKFLNSGIAISQGNSGVFTLTKGDGTTDTTTITKGKLGLSYTDGADVTGDNTANDVSNVNGTAASTVQGGAARANAGLTSVGDVSRAVPVGAGGTGQTNTNKFLNSDLGITLDGNNITLTKAGDTNSTDTVPTALKNSNIAINGSGQLTGIGTGVNTVISNASIVAGDISGSGKAFAVLPASGATVGAVLGTNLKASNGTTTLGDNDVKNTALDVDIDGTSMRLKIGSTVTSTVTATQGLVGLSGVSNNADQTSSNTANDVSNVNGTAASTVKAGAVRANAGLTSTGDVNRAVPVGVGGTGQTATNKFLNSDIGIAMDGTNVTITKAGDTNSAVAIPGTLKNTNISFSRPTTGTLRLNNGSNNDITLTAADAQITSDSSGINVASVRKATHNGNAINSSGNVTSSMSVASGGSIVVGNITIDGTNGRILITD*\n",
            "\n",
            ">VMHT01000002.1_2 # 16 # 16\n",
            "\n",
            "MKVSLSSLNTLLEQVESESDIILSSDRGDYQGAFKGDPFDYVYDSAKDIFTVVRLNSKAEKLSDKKVARLEKAVGKIFGPGTKSHDILTSRMRKSDDASGDKGKKKVKGLSKGQKLSAEFLKTSSVGGKRISPAQVHMTFSLLDDDDVKKLSKVADSPGKYAVAITEVAQEVVSLYTIWVPAIEAFEALGGFAAAKLGAFGTGRLAAFLTAAGGLKGFIIAGVPVAITSLYASFQLEKLDLSEIEVILSDLRPAIQDTKPKTVKELAAALDEVKEEDKEIGADFLWDSMRKVSDGEYSLMRGHSVPKFSREPDVINLLNTSLESGTAQGLYDEYTKLSKQYGNKIDLVDELENYSIWHSDFREIVKDLKDNIKRIDLKKKEKVSLKTLFDRI*\n",
            "\n",
            ">VMHT01000002.1_3 # 18 # 18\n",
            "\n",
            "MKINEADLRSIIEEELKAFKNRKNVANSKHPSDVEPVEDAEAGGILSDDFEHIPEDVPADVEKPQARVQDLTPIVKEANYSLKTVLEEMRFMGGMGFHVPSSATISESDELEEGCGCGDPGMPKMHMASDHEAPRDLDHSEHEGSMALSQLRRSAKYSQKLSHMIRESDDLPEWVESKITKASDYLGSVYHYLDYEINGKK*\n",
            "\n",
            "20\n"
          ]
        }
      ]
    },
    {
      "cell_type": "code",
      "source": [
        "with open('/content/drive/MyDrive/KGI Internship/viral pred/representative_clusters.txt', 'w+') as f:\n",
        "  for i in rep_lines:\n",
        "    f.write(i)"
      ],
      "metadata": {
        "id": "XyZtB75KOUSk"
      },
      "execution_count": null,
      "outputs": []
    },
    {
      "cell_type": "code",
      "source": [
        "all = [len(i) for i in contig_to_gene.values()]\n",
        "known = num_good_genes\n",
        "pred = num_genes\n",
        "\n",
        "import numpy as np\n",
        "\n",
        "fig, axs = plt.subplots(nrows=1, ncols=2, figsize=(9, 4))\n",
        "\n",
        "# Fixing random state for reproducibility\n",
        "np.random.seed(19680801)\n",
        "\n",
        "\n",
        "# generate some random test data\n",
        "all_data = [np.random.normal(0, std, 100) for std in range(6, 9)]\n",
        "\n",
        "# plot violin plot\n",
        "axs[0].violinplot([all, known, pred],\n",
        "                  showmeans=False,\n",
        "                  showmedians=True)\n",
        "axs[0].set_title('Violin plot')\n",
        "\n",
        "# plot box plot\n",
        "axs[1].boxplot(all_data)\n",
        "axs[1].set_title('Box plot')\n",
        "\n",
        "# adding horizontal grid lines\n",
        "for ax in axs:\n",
        "    ax.yaxis.grid(True)\n",
        "    ax.set_xticks([y + 1 for y in range(len(all_data))],\n",
        "                  labels=['All', 'Known', 'Pred'])\n",
        "    ax.set_xlabel('# of Genes per Contig')\n",
        "    ax.set_ylabel('Frequency')\n",
        "    ax.set_yscale('log')\n",
        "\n",
        "plt.show()"
      ],
      "metadata": {
        "colab": {
          "base_uri": "https://localhost:8080/",
          "height": 409
        },
        "id": "YoXgrNjtacSg",
        "outputId": "ded5de13-7fe4-4395-a264-2227abe32486"
      },
      "execution_count": null,
      "outputs": [
        {
          "output_type": "display_data",
          "data": {
            "text/plain": [
              "<Figure size 900x400 with 2 Axes>"
            ],
            "image/png": "[encoded data removed]"
          },
          "metadata": {}
        }
      ]
    }
  ],
  "metadata": {
    "colab": {
      "provenance": []
    },
    "kernelspec": {
      "display_name": "Python 3",
      "name": "python3"
    },
    "language_info": {
      "name": "python"
    }
  },
  "nbformat": 4,
  "nbformat_minor": 0
}